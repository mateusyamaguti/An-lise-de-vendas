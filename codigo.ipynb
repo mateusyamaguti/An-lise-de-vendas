{
 "cells": [
  {
   "cell_type": "markdown",
   "metadata": {},
   "source": [
    "### Etapa 1\n"
   ]
  },
  {
   "cell_type": "markdown",
   "metadata": {},
   "source": [
    "Pré - requisitos:\n",
    "> Python iniciantes"
   ]
  },
  {
   "cell_type": "markdown",
   "metadata": {},
   "source": [
    "### Etapa 2"
   ]
  },
  {
   "cell_type": "markdown",
   "metadata": {},
   "source": [
    "#### Criar DataFrama\n",
    "\n",
    "- Criar DataFrame\n",
    "- Importar arquivos e bases de dados\n",
    "- Visualizar DataFrame (print, display, head, shape e describe)"
   ]
  },
  {
   "cell_type": "code",
   "execution_count": 2,
   "metadata": {},
   "outputs": [
    {
     "data": {
      "text/html": [
       "<div>\n",
       "<style scoped>\n",
       "    .dataframe tbody tr th:only-of-type {\n",
       "        vertical-align: middle;\n",
       "    }\n",
       "\n",
       "    .dataframe tbody tr th {\n",
       "        vertical-align: top;\n",
       "    }\n",
       "\n",
       "    .dataframe thead th {\n",
       "        text-align: right;\n",
       "    }\n",
       "</style>\n",
       "<table border=\"1\" class=\"dataframe\">\n",
       "  <thead>\n",
       "    <tr style=\"text-align: right;\">\n",
       "      <th></th>\n",
       "      <th>Name</th>\n",
       "      <th>Age</th>\n",
       "      <th>Gender</th>\n",
       "    </tr>\n",
       "  </thead>\n",
       "  <tbody>\n",
       "    <tr>\n",
       "      <th>0</th>\n",
       "      <td>Mateus</td>\n",
       "      <td>27</td>\n",
       "      <td>Masc</td>\n",
       "    </tr>\n",
       "    <tr>\n",
       "      <th>1</th>\n",
       "      <td>Amanda</td>\n",
       "      <td>28</td>\n",
       "      <td>Fem</td>\n",
       "    </tr>\n",
       "    <tr>\n",
       "      <th>2</th>\n",
       "      <td>Stefani</td>\n",
       "      <td>45</td>\n",
       "      <td>Outro</td>\n",
       "    </tr>\n",
       "  </tbody>\n",
       "</table>\n",
       "</div>"
      ],
      "text/plain": [
       "      Name Age Gender\n",
       "0   Mateus  27   Masc\n",
       "1   Amanda  28    Fem\n",
       "2  Stefani  45  Outro"
      ]
     },
     "metadata": {},
     "output_type": "display_data"
    }
   ],
   "source": [
    "# importar biblioteca\n",
    "import pandas as pd\n",
    "\n",
    "# Criar DataFrama\n",
    "df = pd.DataFrame(\n",
    "    {\"Name\": ['Mateus', 'Amanda', 'Stefani'],\n",
    "    \"Age\": ['27', '28','45'],\n",
    "    \"Gender\": ['Masc', 'Fem', 'Outro']\n",
    "    }\n",
    ")\n",
    "\n",
    "display(df)"
   ]
  },
  {
   "cell_type": "code",
   "execution_count": 3,
   "metadata": {},
   "outputs": [
    {
     "data": {
      "text/html": [
       "<div>\n",
       "<style scoped>\n",
       "    .dataframe tbody tr th:only-of-type {\n",
       "        vertical-align: middle;\n",
       "    }\n",
       "\n",
       "    .dataframe tbody tr th {\n",
       "        vertical-align: top;\n",
       "    }\n",
       "\n",
       "    .dataframe thead th {\n",
       "        text-align: right;\n",
       "    }\n",
       "</style>\n",
       "<table border=\"1\" class=\"dataframe\">\n",
       "  <thead>\n",
       "    <tr style=\"text-align: right;\">\n",
       "      <th></th>\n",
       "      <th>Order ID</th>\n",
       "      <th>Product</th>\n",
       "      <th>Quantity Ordered</th>\n",
       "      <th>Price Each</th>\n",
       "      <th>Order Date</th>\n",
       "      <th>Purchase Address</th>\n",
       "    </tr>\n",
       "  </thead>\n",
       "  <tbody>\n",
       "    <tr>\n",
       "      <th>0</th>\n",
       "      <td>236670.0</td>\n",
       "      <td>Wired Headphones</td>\n",
       "      <td>2.0</td>\n",
       "      <td>11.99</td>\n",
       "      <td>08/31/19 22:21</td>\n",
       "      <td>359 Spruce St, Seattle, WA 98101</td>\n",
       "    </tr>\n",
       "    <tr>\n",
       "      <th>1</th>\n",
       "      <td>236671.0</td>\n",
       "      <td>Bose SoundSport Headphones</td>\n",
       "      <td>1.0</td>\n",
       "      <td>99.99</td>\n",
       "      <td>08/15/19 15:11</td>\n",
       "      <td>492 Ridge St, Dallas, TX 75001</td>\n",
       "    </tr>\n",
       "    <tr>\n",
       "      <th>2</th>\n",
       "      <td>236672.0</td>\n",
       "      <td>iPhone</td>\n",
       "      <td>1.0</td>\n",
       "      <td>700.00</td>\n",
       "      <td>2019-06-08 14:40:00</td>\n",
       "      <td>149 7th St, Portland, OR 97035</td>\n",
       "    </tr>\n",
       "    <tr>\n",
       "      <th>3</th>\n",
       "      <td>236673.0</td>\n",
       "      <td>AA Batteries (4-pack)</td>\n",
       "      <td>2.0</td>\n",
       "      <td>3.84</td>\n",
       "      <td>08/29/19 20:59</td>\n",
       "      <td>631 2nd St, Los Angeles, CA 90001</td>\n",
       "    </tr>\n",
       "    <tr>\n",
       "      <th>4</th>\n",
       "      <td>236674.0</td>\n",
       "      <td>AA Batteries (4-pack)</td>\n",
       "      <td>2.0</td>\n",
       "      <td>3.84</td>\n",
       "      <td>08/15/19 19:53</td>\n",
       "      <td>736 14th St, New York City, NY 10001</td>\n",
       "    </tr>\n",
       "    <tr>\n",
       "      <th>...</th>\n",
       "      <td>...</td>\n",
       "      <td>...</td>\n",
       "      <td>...</td>\n",
       "      <td>...</td>\n",
       "      <td>...</td>\n",
       "      <td>...</td>\n",
       "    </tr>\n",
       "    <tr>\n",
       "      <th>12016</th>\n",
       "      <td>248146.0</td>\n",
       "      <td>Bose SoundSport Headphones</td>\n",
       "      <td>1.0</td>\n",
       "      <td>99.99</td>\n",
       "      <td>08/29/19 22:19</td>\n",
       "      <td>868 Hickory St, San Francisco, CA 94016</td>\n",
       "    </tr>\n",
       "    <tr>\n",
       "      <th>12017</th>\n",
       "      <td>248147.0</td>\n",
       "      <td>AAA Batteries (4-pack)</td>\n",
       "      <td>3.0</td>\n",
       "      <td>2.99</td>\n",
       "      <td>08/31/19 16:26</td>\n",
       "      <td>206 Lakeview St, Boston, MA 02215</td>\n",
       "    </tr>\n",
       "    <tr>\n",
       "      <th>12018</th>\n",
       "      <td>248148.0</td>\n",
       "      <td>AA Batteries (4-pack)</td>\n",
       "      <td>1.0</td>\n",
       "      <td>3.84</td>\n",
       "      <td>2019-02-08 07:25:00</td>\n",
       "      <td>568 13th St, Seattle, WA 98101</td>\n",
       "    </tr>\n",
       "    <tr>\n",
       "      <th>12019</th>\n",
       "      <td>248149.0</td>\n",
       "      <td>USB-C Charging Cable</td>\n",
       "      <td>1.0</td>\n",
       "      <td>11.95</td>\n",
       "      <td>2019-08-08 12:10:00</td>\n",
       "      <td>495 Walnut St, San Francisco, CA 94016</td>\n",
       "    </tr>\n",
       "    <tr>\n",
       "      <th>12020</th>\n",
       "      <td>248150.0</td>\n",
       "      <td>AA Batteries (4-pack)</td>\n",
       "      <td>1.0</td>\n",
       "      <td>3.84</td>\n",
       "      <td>08/16/19 08:13</td>\n",
       "      <td>738 Park St, Los Angeles, CA 90001</td>\n",
       "    </tr>\n",
       "  </tbody>\n",
       "</table>\n",
       "<p>12021 rows × 6 columns</p>\n",
       "</div>"
      ],
      "text/plain": [
       "       Order ID                     Product  Quantity Ordered  Price Each  \\\n",
       "0      236670.0            Wired Headphones               2.0       11.99   \n",
       "1      236671.0  Bose SoundSport Headphones               1.0       99.99   \n",
       "2      236672.0                      iPhone               1.0      700.00   \n",
       "3      236673.0       AA Batteries (4-pack)               2.0        3.84   \n",
       "4      236674.0       AA Batteries (4-pack)               2.0        3.84   \n",
       "...         ...                         ...               ...         ...   \n",
       "12016  248146.0  Bose SoundSport Headphones               1.0       99.99   \n",
       "12017  248147.0      AAA Batteries (4-pack)               3.0        2.99   \n",
       "12018  248148.0       AA Batteries (4-pack)               1.0        3.84   \n",
       "12019  248149.0        USB-C Charging Cable               1.0       11.95   \n",
       "12020  248150.0       AA Batteries (4-pack)               1.0        3.84   \n",
       "\n",
       "                Order Date                         Purchase Address  \n",
       "0           08/31/19 22:21         359 Spruce St, Seattle, WA 98101  \n",
       "1           08/15/19 15:11           492 Ridge St, Dallas, TX 75001  \n",
       "2      2019-06-08 14:40:00           149 7th St, Portland, OR 97035  \n",
       "3           08/29/19 20:59        631 2nd St, Los Angeles, CA 90001  \n",
       "4           08/15/19 19:53     736 14th St, New York City, NY 10001  \n",
       "...                    ...                                      ...  \n",
       "12016       08/29/19 22:19  868 Hickory St, San Francisco, CA 94016  \n",
       "12017       08/31/19 16:26        206 Lakeview St, Boston, MA 02215  \n",
       "12018  2019-02-08 07:25:00           568 13th St, Seattle, WA 98101  \n",
       "12019  2019-08-08 12:10:00   495 Walnut St, San Francisco, CA 94016  \n",
       "12020       08/16/19 08:13       738 Park St, Los Angeles, CA 90001  \n",
       "\n",
       "[12021 rows x 6 columns]"
      ]
     },
     "metadata": {},
     "output_type": "display_data"
    }
   ],
   "source": [
    "# importar base de dados\n",
    "sales_df = pd.read_excel('Sales.xlsx')\n",
    "\n",
    "display(sales_df)\n",
    "\n",
    "# Aplicar outros métodos de visualização\n",
    "# display(sales_df.head(10))\n",
    "# display(sales_df.shape)\n",
    "# display(sales_df.describe())"
   ]
  },
  {
   "cell_type": "markdown",
   "metadata": {},
   "source": [
    "### Etapa 3"
   ]
  },
  {
   "cell_type": "markdown",
   "metadata": {},
   "source": [
    "#### Etapa 3 - Selecionar dados\n",
    "- Selecionar coluna \n",
    "- Selecionar várias colunas\n",
    "- Selecionar linhas\n",
    "- Selecionar linhas com condições\n",
    "- Selecionar linhas e colunas\n"
   ]
  },
  {
   "cell_type": "code",
   "execution_count": 4,
   "metadata": {},
   "outputs": [],
   "source": [
    "import pandas as pd\n",
    "\n",
    "## Buscar uma série (coluna) -> product\n",
    "# products_series = sales_df['Product']\n",
    "# display(products_series)\n",
    "\n",
    "## Buscar várias séries (colunas)\n",
    "# prod_order_df = sales_df[['Order ID', 'Product']]\n",
    "# display(prod_order_df)\n",
    "\n",
    "# # Buscar linhas (Fatiar)\n",
    "# display(sales_df[:5])\n",
    "\n",
    "# Buscar linhas com condição\n",
    "# sale_GPhone_df = sales_df.loc[sales_df['Product'] == 'Google Phone']\n",
    "# display(sale_GPhone_df)\n",
    "\n",
    "# Buscar dentro da condição apenas algumas colunas\n",
    "# sale_GPhone_df = sales_df.loc[sales_df['Product'] == 'Google Phone', ['Order ID', 'Product', 'Price Each']]\n",
    "# display(sale_GPhone_df)\n",
    "\n",
    "# Buscar valor especidifo na matriz da tabela\n",
    "# display(sales_df.loc[(2, 'Product')])"
   ]
  },
  {
   "cell_type": "markdown",
   "metadata": {},
   "source": [
    "### Etapa 4"
   ]
  },
  {
   "cell_type": "markdown",
   "metadata": {},
   "source": [
    "#### Editar dados\n",
    "- Adicionar colunas\n",
    "- Adicionar linhas\n",
    "- Agrupar planilhas\n",
    "- Excluir dados\n"
   ]
  },
  {
   "cell_type": "code",
   "execution_count": 18,
   "metadata": {},
   "outputs": [
    {
     "data": {
      "text/plain": [
       "(11957, 6)"
      ]
     },
     "metadata": {},
     "output_type": "display_data"
    }
   ],
   "source": [
    "# # Adicionar coluna no final\n",
    "# sales_df['Total Price'] = sales_df['Price Each'] * sales_df['Quantity Ordered']\n",
    "# display(sales_df)\n",
    "\n",
    "# # Adicionar coluna de forma padrão\n",
    "# '''Forma errada'''\n",
    "# sales_df['Vendedor'] = ''\n",
    "# '''Forma correta'''\n",
    "# sales_df.loc[:, 'Vendedor'] = ''\n",
    "# display(sales_df)\n",
    "\n",
    "# # Adicionar uma única linha\n",
    "# new_row = pd.DataFrame([[0, 0, 0, 0, 0, 0 ]], columns=['Order ID', 'Product', 'Quantity Ordered', 'Price Each', 'Order Date', 'Purchase Address'])\n",
    "# sales_df.loc[len(sales_df)] = new_row.loc[0]\n",
    "# display(sales_df)\n",
    "\n",
    "# # Adicionar linhas de outra tabela\n",
    "# sales_april_df = pd.read_excel('Sales_April_2019.xlsx')\n",
    "# sales_df = pd.concat([sales_df, sales_april_df])\n",
    "# display(sales_df)\n",
    "\n",
    "# # Deletar uma linha\n",
    "# sales_df = sales_df.drop(len(sales_df)-1)\n",
    "# display(sales_df)\n",
    "\n",
    "# # deletar linhas e colunas completamente vazias\n",
    "# sales_df = sales_df.dropna(how='all', axis=0)\n",
    "# display(sales_df.shape)\n"
   ]
  },
  {
   "cell_type": "markdown",
   "metadata": {},
   "source": [
    "### Etapa 5"
   ]
  },
  {
   "cell_type": "markdown",
   "metadata": {},
   "source": [
    "- Valores vazios\n",
    "- Cálculo de indicadores"
   ]
  },
  {
   "cell_type": "code",
   "execution_count": 6,
   "metadata": {},
   "outputs": [],
   "source": [
    "# # Preencher valores vazios com a média da coluna\n",
    "# sales_df['Price Each'] = sales_df['Order ID'].fillna(sales_df['Price Each'].mean())\n",
    "# prod_order_df = sales_df[['Order ID', 'Price Each']]\n",
    "# display(prod_order_df.loc[50:60])\n",
    "\n",
    "# # Contar valores\n",
    "# sales_per_product = sales_df['Product'].value_counts()\n",
    "# print(sales_per_product)\n",
    "\n",
    "# # Faturamento por produto\n",
    "# sales_df['Amount'] = sales_df['Price Each'] * sales_df['Quantity Ordered']\n",
    "# faturamento_produto = sales_df.groupby('Product')['Amount'].sum().reset_index()\n",
    "# display(faturamento_produto)\n",
    "\n",
    "# # Média de valores\n",
    "# sales_df['Amount'] = sales_df['Price Each'] * sales_df['Quantity Ordered']\n",
    "# mean_produto = sales_df.groupby('Product')['Amount'].mean().reset_index()\n",
    "# display(mean_produto)\n",
    "\n",
    "# # Valores máximos\n",
    "# sales_df['Amount'] = sales_df['Price Each'] * sales_df['Quantity Ordered']\n",
    "# max_produto = sales_df.groupby('Product')['Amount'].max().reset_index()\n",
    "# display(max_produto)"
   ]
  }
 ],
 "metadata": {
  "kernelspec": {
   "display_name": "venv",
   "language": "python",
   "name": "python3"
  },
  "language_info": {
   "codemirror_mode": {
    "name": "ipython",
    "version": 3
   },
   "file_extension": ".py",
   "mimetype": "text/x-python",
   "name": "python",
   "nbconvert_exporter": "python",
   "pygments_lexer": "ipython3",
   "version": "3.12.2"
  }
 },
 "nbformat": 4,
 "nbformat_minor": 2
}
